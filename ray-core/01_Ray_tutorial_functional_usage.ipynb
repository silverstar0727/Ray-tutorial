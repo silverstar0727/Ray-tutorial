{
  "nbformat": 4,
  "nbformat_minor": 0,
  "metadata": {
    "colab": {
      "name": "01-Ray-tutorial-functional-usage.ipynb",
      "provenance": [],
      "collapsed_sections": []
    },
    "kernelspec": {
      "name": "python3",
      "display_name": "Python 3"
    },
    "language_info": {
      "name": "python"
    }
  },
  "cells": [
    {
      "cell_type": "markdown",
      "source": [
        "충돌이 발생할 수 있으므로 종속성 설치시 pyarrow 삭제."
      ],
      "metadata": {
        "id": "fI6Kw6j-623o"
      }
    },
    {
      "cell_type": "code",
      "execution_count": 1,
      "metadata": {
        "colab": {
          "base_uri": "https://localhost:8080/"
        },
        "id": "HOGQh1YX5BYf",
        "outputId": "485d4f7a-c235-45aa-ad13-e93a32144402"
      },
      "outputs": [
        {
          "output_type": "stream",
          "name": "stdout",
          "text": [
            "Found existing installation: pyarrow 6.0.1\n",
            "Uninstalling pyarrow-6.0.1:\n",
            "  Successfully uninstalled pyarrow-6.0.1\n",
            "Collecting ray==1.10.0\n",
            "  Downloading ray-1.10.0-cp37-cp37m-manylinux2014_x86_64.whl (59.6 MB)\n",
            "\u001b[K     |████████████████████████████████| 59.6 MB 1.3 MB/s \n",
            "\u001b[?25hRequirement already satisfied: click>=7.0 in /usr/local/lib/python3.7/dist-packages (from ray==1.10.0) (7.1.2)\n",
            "Requirement already satisfied: msgpack<2.0.0,>=1.0.0 in /usr/local/lib/python3.7/dist-packages (from ray==1.10.0) (1.0.3)\n",
            "Requirement already satisfied: attrs in /usr/local/lib/python3.7/dist-packages (from ray==1.10.0) (21.4.0)\n",
            "Requirement already satisfied: jsonschema in /usr/local/lib/python3.7/dist-packages (from ray==1.10.0) (4.3.3)\n",
            "Collecting redis>=3.5.0\n",
            "  Downloading redis-4.1.3-py3-none-any.whl (173 kB)\n",
            "\u001b[K     |████████████████████████████████| 173 kB 53.1 MB/s \n",
            "\u001b[?25hRequirement already satisfied: numpy>=1.16 in /usr/local/lib/python3.7/dist-packages (from ray==1.10.0) (1.19.5)\n",
            "Requirement already satisfied: filelock in /usr/local/lib/python3.7/dist-packages (from ray==1.10.0) (3.4.2)\n",
            "Requirement already satisfied: pyyaml in /usr/local/lib/python3.7/dist-packages (from ray==1.10.0) (3.13)\n",
            "Requirement already satisfied: grpcio>=1.28.1 in /usr/local/lib/python3.7/dist-packages (from ray==1.10.0) (1.43.0)\n",
            "Requirement already satisfied: protobuf>=3.15.3 in /usr/local/lib/python3.7/dist-packages (from ray==1.10.0) (3.17.3)\n",
            "Requirement already satisfied: six>=1.5.2 in /usr/local/lib/python3.7/dist-packages (from grpcio>=1.28.1->ray==1.10.0) (1.15.0)\n",
            "Collecting deprecated>=1.2.3\n",
            "  Downloading Deprecated-1.2.13-py2.py3-none-any.whl (9.6 kB)\n",
            "Requirement already satisfied: packaging>=20.4 in /usr/local/lib/python3.7/dist-packages (from redis>=3.5.0->ray==1.10.0) (21.3)\n",
            "Requirement already satisfied: importlib-metadata>=1.0 in /usr/local/lib/python3.7/dist-packages (from redis>=3.5.0->ray==1.10.0) (4.10.1)\n",
            "Requirement already satisfied: wrapt<2,>=1.10 in /usr/local/lib/python3.7/dist-packages (from deprecated>=1.2.3->redis>=3.5.0->ray==1.10.0) (1.13.3)\n",
            "Requirement already satisfied: zipp>=0.5 in /usr/local/lib/python3.7/dist-packages (from importlib-metadata>=1.0->redis>=3.5.0->ray==1.10.0) (3.7.0)\n",
            "Requirement already satisfied: typing-extensions>=3.6.4 in /usr/local/lib/python3.7/dist-packages (from importlib-metadata>=1.0->redis>=3.5.0->ray==1.10.0) (3.10.0.2)\n",
            "Requirement already satisfied: pyparsing!=3.0.5,>=2.0.2 in /usr/local/lib/python3.7/dist-packages (from packaging>=20.4->redis>=3.5.0->ray==1.10.0) (3.0.7)\n",
            "Requirement already satisfied: importlib-resources>=1.4.0 in /usr/local/lib/python3.7/dist-packages (from jsonschema->ray==1.10.0) (5.4.0)\n",
            "Requirement already satisfied: pyrsistent!=0.17.0,!=0.17.1,!=0.17.2,>=0.14.0 in /usr/local/lib/python3.7/dist-packages (from jsonschema->ray==1.10.0) (0.18.1)\n",
            "Installing collected packages: deprecated, redis, ray\n",
            "Successfully installed deprecated-1.2.13 ray-1.10.0 redis-4.1.3\n",
            "Requirement already satisfied: bs4 in /usr/local/lib/python3.7/dist-packages (0.0.1)\n",
            "Requirement already satisfied: beautifulsoup4 in /usr/local/lib/python3.7/dist-packages (from bs4) (4.6.3)\n"
          ]
        }
      ],
      "source": [
        "!pip uninstall -y pyarrow\n",
        "!pip install ray==1.10.0\n",
        "!pip install bs4"
      ]
    },
    {
      "cell_type": "markdown",
      "source": [
        "이번 exercise의 목표는 어떻게 간단하게 병렬처리를 할 수 있는지 보는 것.\n",
        "\n",
        "`@ray.remote` 데코레이터를 이용하면 해당 함수는 병렬로 실행할 수 있음"
      ],
      "metadata": {
        "id": "ziMy9T6D-ixI"
      }
    },
    {
      "cell_type": "code",
      "source": [
        "import ray \n",
        "\n",
        "# 일반적인 방식\n",
        "def regular_function():\n",
        "    return 1\n",
        "\n",
        "# 레이를 사용하는 방식\n",
        "@ray.remote\n",
        "def remote_function():\n",
        "    return 1"
      ],
      "metadata": {
        "id": "XDPZhe5Y82Jz"
      },
      "execution_count": 2,
      "outputs": []
    },
    {
      "cell_type": "markdown",
      "source": [
        "3가지 차이가 존재\n",
        "1. 호출시: remote 메서드를 통해 호출을 해야 함\n",
        "2. 값 반환시: 일반적인 방식으로 호출하면 object ref가 출력이 되므로 ray.get을 통해 가져와야 함\n",
        "3. 병렬 사용 방식의 코딩: 리스트를 생성하고 함수를 넣은 후 한번에 계산하는 방식을 사용"
      ],
      "metadata": {
        "id": "s3_mu3Y6_p3R"
      }
    },
    {
      "cell_type": "code",
      "source": [
        "# 1. 호출시: remote 메서드를 통해 호출을 해야 함\n",
        "# 2. 값 반환시: 일반적인 방식으로 호출하면 object ref가 출력이 되므로 ray.get을 통해 가져와야 함\n",
        "\n",
        "print(regular_function())\n",
        "print(remote_function.remote())\n",
        "print(ray.get(remote_function.remote()))"
      ],
      "metadata": {
        "colab": {
          "base_uri": "https://localhost:8080/"
        },
        "id": "G-MLs4Bh_igv",
        "outputId": "ddaca31f-c3f8-44ba-a5ce-159fab6cd984"
      },
      "execution_count": 3,
      "outputs": [
        {
          "output_type": "stream",
          "name": "stdout",
          "text": [
            "1\n",
            "ObjectRef(a67dc375e60ddd1affffffffffffffffffffffff0100000001000000)\n",
            "1\n"
          ]
        }
      ]
    },
    {
      "cell_type": "code",
      "source": [
        "# 3. 병렬 사용 방식의 코딩: 리스트를 생성하고 함수를 넣은 후 한번에 계산하는 방식을 사용\n",
        "\n",
        "# 기본 방식\n",
        "result = 0\n",
        "for _ in range(4):\n",
        "    result += regular_function()\n",
        "print(result)\n",
        "\n",
        "# ray사용 병렬 방식\n",
        "results = []\n",
        "for _ in range(4):\n",
        "    results.append(remote_function.remote())\n",
        "result = sum(ray.get(results))\n",
        "print(result)"
      ],
      "metadata": {
        "colab": {
          "base_uri": "https://localhost:8080/"
        },
        "id": "2dSxEVqjAinc",
        "outputId": "07039b3f-3945-4788-90d5-d1818bc5b22c"
      },
      "execution_count": 4,
      "outputs": [
        {
          "output_type": "stream",
          "name": "stdout",
          "text": [
            "4\n",
            "4\n"
          ]
        }
      ]
    },
    {
      "cell_type": "code",
      "source": [
        "ray.shutdown()"
      ],
      "metadata": {
        "id": "e3HozSUjDK4H"
      },
      "execution_count": 5,
      "outputs": []
    },
    {
      "cell_type": "code",
      "source": [
        "ray.init(num_cpus=4)\n",
        "\n",
        "# 연속해서 실행할 때 cpu중 하나가 백그라운드에서 init중일 수 있으므로 간단하게 멈춰줌\n",
        "import time\n",
        "time.sleep(0.2)"
      ],
      "metadata": {
        "id": "aEmOHR2IBS-q"
      },
      "execution_count": 6,
      "outputs": []
    },
    {
      "cell_type": "code",
      "source": [
        "# 시간 측정하기\n",
        "def slow_function(i):\n",
        "    time.sleep(1)\n",
        "    return i\n",
        "\n",
        "@ray.remote\n",
        "def fast_function(i):\n",
        "    time.sleep(i)\n",
        "    return i\n",
        "\n",
        "# 느린실행\n",
        "start_time = time.time()\n",
        "\n",
        "slow_results = []\n",
        "for i in range(4):\n",
        "    slow_results.append(slow_function(i))\n",
        "\n",
        "slow_duration = time.time() - start_time\n",
        "\n",
        "# 빠른 실행\n",
        "start_time = time.time()\n",
        "\n",
        "fast_results = []\n",
        "for i in range(4):\n",
        "    fast_results.append(fast_function.remote(i))\n",
        "fast_result = ray.get(fast_results)\n",
        "\n",
        "fast_duration = time.time() - start_time\n",
        "\n",
        "print(f\"duration: {slow_duration}, results: {slow_results}\")\n",
        "print(f\"duration: {fast_duration}, results: {fast_results}\")"
      ],
      "metadata": {
        "colab": {
          "base_uri": "https://localhost:8080/"
        },
        "id": "Vtwgz1JKDGfc",
        "outputId": "2c01c906-a3ce-455e-8c6b-79e309ea9c8c"
      },
      "execution_count": 7,
      "outputs": [
        {
          "output_type": "stream",
          "name": "stdout",
          "text": [
            "duration: 4.004502534866333, results: [0, 1, 2, 3]\n",
            "duration: 4.022339344024658, results: [ObjectRef(480a853c2c4c6f27ffffffffffffffffffffffff0100000001000000), ObjectRef(623b26bdd75b28e9ffffffffffffffffffffffff0100000001000000), ObjectRef(1e9d04d3b7e4dfb2ffffffffffffffffffffffff0100000001000000), ObjectRef(609d7f556b6757adffffffffffffffffffffffff0100000001000000)]\n"
          ]
        }
      ]
    },
    {
      "cell_type": "code",
      "source": [
        "# 실행 결과 저장\n",
        "ray.timeline(filename=\"exercise_1.json\")"
      ],
      "metadata": {
        "id": "K8fVS2qwEFU8"
      },
      "execution_count": 8,
      "outputs": []
    },
    {
      "cell_type": "markdown",
      "source": [
        "object id를 remote 함수에 전달하여 task간 dependency를 구성하기"
      ],
      "metadata": {
        "id": "WXNBvCWyq09p"
      }
    },
    {
      "cell_type": "code",
      "source": [
        "import numpy as np\n",
        "\n",
        "@ray.remote\n",
        "def load_data(filename):\n",
        "    time.sleep(0.1)\n",
        "    return np.ones((1000, 100))\n",
        "\n",
        "@ray.remote\n",
        "def normalize_data(data):\n",
        "    time.sleep(0.1)\n",
        "    return data - np.mean(data, axis=0)\n",
        "\n",
        "@ray.remote\n",
        "def extract_features(normalized_data):\n",
        "    time.sleep(0.1)\n",
        "    return np.hstack([normalized_data, normalized_data ** 2])\n",
        "\n",
        "@ray.remote\n",
        "def compute_loss(features):\n",
        "    num_data, dim = features.shape\n",
        "    time.sleep(0.1)\n",
        "    return np.sum((np.dot(features, np.ones(dim)) - np.ones(num_data)) ** 2)"
      ],
      "metadata": {
        "id": "VyJJvrnPq0x8"
      },
      "execution_count": 11,
      "outputs": []
    },
    {
      "cell_type": "markdown",
      "source": [
        "병렬처리가 되어있지 않다면 아래 코드는 1.6초 이상이 걸려야 한다. 각 함수는 0.1초씩 쉬므로 한번의 for문은 0.4초가 소요되기 때문.\n",
        "\n",
        "그러나 병렬처리가 되므로 for문을 동시에 처리하기 때문에 0.4초보다 약간 더 긴시간이 소요되는 것을 볼 수 있다.\n"
      ],
      "metadata": {
        "id": "B_hDcPcLuid2"
      }
    },
    {
      "cell_type": "code",
      "source": [
        "start_time = time.time()\n",
        "losses = []\n",
        "for filename in [\"file1\", \"file2\", \"file3\", \"file4\"]:\n",
        "    inner_start = time.time()\n",
        "\n",
        "    data = load_data.remote(filename)\n",
        "    normalized_data = normalize_data.remote(data)\n",
        "    features = extract_features.remote(normalized_data)\n",
        "    loss = compute_loss.remote(features)\n",
        "    losses.append(loss)\n",
        "\n",
        "    inner_end = time.time()\n",
        "\n",
        "losses = ray.get(losses)\n",
        "print(losses)\n",
        "\n",
        "loss = sum(losses)\n",
        "duration = time.time() - start_time\n",
        "\n",
        "print(loss, duration)"
      ],
      "metadata": {
        "colab": {
          "base_uri": "https://localhost:8080/"
        },
        "id": "EOi23ht0FupX",
        "outputId": "3b907cb4-1b99-4c3b-cad8-56d54eb57c56"
      },
      "execution_count": 13,
      "outputs": [
        {
          "output_type": "stream",
          "name": "stdout",
          "text": [
            "[1000.0, 1000.0, 1000.0, 1000.0]\n",
            "4000.0 0.45316457748413086\n"
          ]
        }
      ]
    },
    {
      "cell_type": "markdown",
      "source": [
        "크롤링을 병렬처리 해보기"
      ],
      "metadata": {
        "id": "O-bJrRmZu8HF"
      }
    },
    {
      "cell_type": "code",
      "source": [
        "from bs4 import BeautifulSoup\n",
        "import requests\n",
        "\n",
        "import pandas as pd"
      ],
      "metadata": {
        "id": "Xwq_jzARrja3"
      },
      "execution_count": 14,
      "outputs": []
    },
    {
      "cell_type": "code",
      "source": [
        "@ray.remote\n",
        "def fetch_commits(repo):\n",
        "    url = f\"https://github.com/{repo}/commits/master\"\n",
        "    response = requests.get(url)\n",
        "    soup = BeautifulSoup(response.text, \"lxml\")\n",
        "    df = pd.DataFrame(columns=[\"title\", \"link\"])\n",
        "    for g in soup.find_all(class_=\"commit-title\"):\n",
        "        entry = {}\n",
        "        title = g.find_all(class_=\"message\")[0][\"aria-label\"]\n",
        "        entry[\"title\"] = title\n",
        "        links = g.find_all(class_=\"issue-link\")\n",
        "        if len(links) >= 1:\n",
        "            link = links[0][\"data-url\"]\n",
        "            entry[\"link\"] = link\n",
        "        df = df.append(pd.DataFrame(entry, index=[0]), sort=False)\n",
        "\n",
        "    df[\"repository\"] = repo\n",
        "    return df"
      ],
      "metadata": {
        "id": "XHOuEsc6vDzS"
      },
      "execution_count": 15,
      "outputs": []
    },
    {
      "cell_type": "code",
      "source": [
        "start = time.time()\n",
        "repos = [\"ray-project/ray\", \"modin-project/modin\", \"apache/arrow\", \"tensorflow/tensorflow\"]\n",
        "results = []\n",
        "for repo in repos:\n",
        "    df = fetch_commits.remote(repo)\n",
        "    results.append(df)\n",
        "\n",
        "df = pd.concat(ray.get(results), sort=False)\n",
        "duration = time.time() - start\n",
        "print(duration)"
      ],
      "metadata": {
        "colab": {
          "base_uri": "https://localhost:8080/"
        },
        "id": "w_fNVt0mvyiZ",
        "outputId": "c255b18b-0e45-4a24-f825-86b8f4254237"
      },
      "execution_count": 23,
      "outputs": [
        {
          "output_type": "stream",
          "name": "stdout",
          "text": [
            "1.0371742248535156\n"
          ]
        }
      ]
    },
    {
      "cell_type": "markdown",
      "source": [
        "복잡한 병렬처리 작업"
      ],
      "metadata": {
        "id": "klU1c7am07DO"
      }
    },
    {
      "cell_type": "code",
      "source": [
        "ray.init(num_cpus=9, ignore_reinit_error=True)\n"
      ],
      "metadata": {
        "colab": {
          "base_uri": "https://localhost:8080/"
        },
        "id": "ALbXxh4D1KzH",
        "outputId": "79bcea5d-a1eb-4c08-9341-3ae181d20222"
      },
      "execution_count": 29,
      "outputs": [
        {
          "output_type": "stream",
          "name": "stderr",
          "text": [
            "2022-02-11 12:49:25,166\tINFO worker.py:863 -- Calling ray.init() again after it has already been called.\n"
          ]
        }
      ]
    },
    {
      "cell_type": "code",
      "source": [
        "@ray.remote\n",
        "def f():\n",
        "    return 1\n",
        "\n",
        "@ray.remote\n",
        "def g():\n",
        "    results = []\n",
        "    for _ in range(4):\n",
        "        results.append(f.remote())\n",
        "    return results\n",
        "\n",
        "@ray.remote\n",
        "def h():\n",
        "    results = []\n",
        "    for _ in range(4):\n",
        "        results.append(f.remote())\n",
        "    return ray.get(results)\n",
        "\n",
        "print(ray.get(g.remote()))\n",
        "print(ray.get(h.remote()))"
      ],
      "metadata": {
        "colab": {
          "base_uri": "https://localhost:8080/"
        },
        "id": "kJegUGmVwEPC",
        "outputId": "3ddc8e8b-7263-4d29-92ea-300fbac0a947"
      },
      "execution_count": 30,
      "outputs": [
        {
          "output_type": "stream",
          "name": "stdout",
          "text": [
            "[ObjectRef(2991578514782464ffffffffffffffffffffffff0100000001000000), ObjectRef(68412c8a2854ffd8ffffffffffffffffffffffff0100000001000000), ObjectRef(2b56898beec276f3ffffffffffffffffffffffff0100000001000000), ObjectRef(94ead23600bc0d02ffffffffffffffffffffffff0100000001000000)]\n",
            "[1, 1, 1, 1]\n"
          ]
        }
      ]
    },
    {
      "cell_type": "code",
      "source": [
        "@ray.remote\n",
        "def compute_gradient(data, current_model):\n",
        "    time.sleep(0.03)\n",
        "    return 1\n",
        "\n",
        "@ray.remote\n",
        "def train_model(hyperparameters):\n",
        "    current_model = 0\n",
        "    for _ in range(10):\n",
        "        total_gradient = sum(ray.get([\n",
        "                                      compute_gradient.remote(j, current_model) \n",
        "                                      for j in range(2)]))\n",
        "        current_model += total_gradient\n",
        "\n",
        "    return current_model"
      ],
      "metadata": {
        "id": "Ybkhn0UCznIT"
      },
      "execution_count": 31,
      "outputs": []
    },
    {
      "cell_type": "code",
      "source": [
        "start_time = time.time()\n",
        "\n",
        "results = []\n",
        "for hyperparameters in [{\"learning_rate\": 1e-1, \"batch_size\": 100},\n",
        "                        {\"learning_rate\": 1e-2, \"batch_size\": 100},\n",
        "                        {\"learning_rate\": 1e-3, \"batch_size\": 100}]:\n",
        "    results.append(train_model.remote(hyperparameters))\n",
        "\n",
        "results = ray.get(results)\n",
        "\n",
        "end_time = time.time()\n",
        "duration = end_time - start_time"
      ],
      "metadata": {
        "id": "oe24Y5Gq0ebU"
      },
      "execution_count": 32,
      "outputs": []
    },
    {
      "cell_type": "code",
      "source": [
        "print(duration)"
      ],
      "metadata": {
        "colab": {
          "base_uri": "https://localhost:8080/"
        },
        "id": "XYRXpao700bW",
        "outputId": "32ab6423-90db-4037-d100-9635980bc822"
      },
      "execution_count": 33,
      "outputs": [
        {
          "output_type": "stream",
          "name": "stdout",
          "text": [
            "3.06950306892395\n"
          ]
        }
      ]
    },
    {
      "cell_type": "code",
      "source": [
        ""
      ],
      "metadata": {
        "id": "NShHs8aB1Dxr"
      },
      "execution_count": null,
      "outputs": []
    }
  ]
}