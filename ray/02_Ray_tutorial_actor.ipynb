{
  "nbformat": 4,
  "nbformat_minor": 0,
  "metadata": {
    "colab": {
      "name": "02-Ray-tutorial-actor.ipynb",
      "provenance": [],
      "collapsed_sections": []
    },
    "kernelspec": {
      "name": "python3",
      "display_name": "Python 3"
    },
    "language_info": {
      "name": "python"
    }
  },
  "cells": [
    {
      "cell_type": "code",
      "execution_count": null,
      "metadata": {
        "colab": {
          "base_uri": "https://localhost:8080/"
        },
        "id": "FymTu1Sf2hKt",
        "outputId": "64dcbf46-defd-4ba6-8f8f-eb092e00dda7"
      },
      "outputs": [
        {
          "output_type": "stream",
          "name": "stdout",
          "text": [
            "\u001b[33mWARNING: Skipping pyarrow as it is not installed.\u001b[0m\n",
            "Collecting ray==1.10.0\n",
            "  Downloading ray-1.10.0-cp37-cp37m-manylinux2014_x86_64.whl (59.6 MB)\n",
            "\u001b[K     |████████████████████████████████| 59.6 MB 90 kB/s \n",
            "\u001b[?25hRequirement already satisfied: protobuf>=3.15.3 in /usr/local/lib/python3.7/dist-packages (from ray==1.10.0) (3.17.3)\n",
            "Requirement already satisfied: redis>=3.5.0 in /usr/local/lib/python3.7/dist-packages (from ray==1.10.0) (4.1.3)\n",
            "Requirement already satisfied: filelock in /usr/local/lib/python3.7/dist-packages (from ray==1.10.0) (3.4.2)\n",
            "Requirement already satisfied: numpy>=1.16 in /usr/local/lib/python3.7/dist-packages (from ray==1.10.0) (1.19.5)\n",
            "Requirement already satisfied: click>=7.0 in /usr/local/lib/python3.7/dist-packages (from ray==1.10.0) (7.1.2)\n",
            "Requirement already satisfied: jsonschema in /usr/local/lib/python3.7/dist-packages (from ray==1.10.0) (4.3.3)\n",
            "Requirement already satisfied: attrs in /usr/local/lib/python3.7/dist-packages (from ray==1.10.0) (21.4.0)\n",
            "Requirement already satisfied: pyyaml in /usr/local/lib/python3.7/dist-packages (from ray==1.10.0) (3.13)\n",
            "Requirement already satisfied: grpcio>=1.28.1 in /usr/local/lib/python3.7/dist-packages (from ray==1.10.0) (1.43.0)\n",
            "Requirement already satisfied: msgpack<2.0.0,>=1.0.0 in /usr/local/lib/python3.7/dist-packages (from ray==1.10.0) (1.0.3)\n",
            "Requirement already satisfied: six>=1.5.2 in /usr/local/lib/python3.7/dist-packages (from grpcio>=1.28.1->ray==1.10.0) (1.15.0)\n",
            "Requirement already satisfied: deprecated>=1.2.3 in /usr/local/lib/python3.7/dist-packages (from redis>=3.5.0->ray==1.10.0) (1.2.13)\n",
            "Requirement already satisfied: packaging>=20.4 in /usr/local/lib/python3.7/dist-packages (from redis>=3.5.0->ray==1.10.0) (21.3)\n",
            "Requirement already satisfied: importlib-metadata>=1.0 in /usr/local/lib/python3.7/dist-packages (from redis>=3.5.0->ray==1.10.0) (4.10.1)\n",
            "Requirement already satisfied: wrapt<2,>=1.10 in /usr/local/lib/python3.7/dist-packages (from deprecated>=1.2.3->redis>=3.5.0->ray==1.10.0) (1.13.3)\n",
            "Requirement already satisfied: typing-extensions>=3.6.4 in /usr/local/lib/python3.7/dist-packages (from importlib-metadata>=1.0->redis>=3.5.0->ray==1.10.0) (3.10.0.2)\n",
            "Requirement already satisfied: zipp>=0.5 in /usr/local/lib/python3.7/dist-packages (from importlib-metadata>=1.0->redis>=3.5.0->ray==1.10.0) (3.7.0)\n",
            "Requirement already satisfied: pyparsing!=3.0.5,>=2.0.2 in /usr/local/lib/python3.7/dist-packages (from packaging>=20.4->redis>=3.5.0->ray==1.10.0) (3.0.7)\n",
            "Requirement already satisfied: importlib-resources>=1.4.0 in /usr/local/lib/python3.7/dist-packages (from jsonschema->ray==1.10.0) (5.4.0)\n",
            "Requirement already satisfied: pyrsistent!=0.17.0,!=0.17.1,!=0.17.2,>=0.14.0 in /usr/local/lib/python3.7/dist-packages (from jsonschema->ray==1.10.0) (0.18.1)\n",
            "Installing collected packages: ray\n",
            "  Attempting uninstall: ray\n",
            "    Found existing installation: ray 0.7.5\n",
            "    Uninstalling ray-0.7.5:\n",
            "      Successfully uninstalled ray-0.7.5\n",
            "Successfully installed ray-1.10.0\n"
          ]
        }
      ],
      "source": [
        "!pip uninstall -y pyarrow\n",
        "!pip install ray==1.10.0"
      ]
    },
    {
      "cell_type": "markdown",
      "source": [
        "상태가 존재하는 actor와 그들의 메서드를 배우는 작업\n",
        "(remote 함수는 stateless)\n",
        "\n"
      ],
      "metadata": {
        "id": "-_Hxw5me6lbb"
      }
    },
    {
      "cell_type": "code",
      "source": [
        "import ray\n",
        "\n",
        "ray.init()"
      ],
      "metadata": {
        "colab": {
          "base_uri": "https://localhost:8080/"
        },
        "id": "BV21PkyR7YcK",
        "outputId": "cfd2a41d-2edc-4c69-8532-730fe620bde3"
      },
      "execution_count": null,
      "outputs": [
        {
          "output_type": "execute_result",
          "data": {
            "text/plain": [
              "{'gcs_address': '172.28.0.2:44497',\n",
              " 'metrics_export_port': 63242,\n",
              " 'node_id': '9eb25319c7a722b5485f9507053485585f9e13e7007e171c1b90da56',\n",
              " 'node_ip_address': '172.28.0.2',\n",
              " 'object_store_address': '/tmp/ray/session_2022-02-11_13-20-13_882213_928/sockets/plasma_store',\n",
              " 'raylet_ip_address': '172.28.0.2',\n",
              " 'raylet_socket_name': '/tmp/ray/session_2022-02-11_13-20-13_882213_928/sockets/raylet',\n",
              " 'redis_address': '172.28.0.2:6379',\n",
              " 'session_dir': '/tmp/ray/session_2022-02-11_13-20-13_882213_928',\n",
              " 'webui_url': None}"
            ]
          },
          "metadata": {},
          "execution_count": 1
        }
      ]
    },
    {
      "cell_type": "code",
      "source": [
        "@ray.remote\n",
        "class Example(object):\n",
        "    def __init__(self, x):\n",
        "        self.x = x\n",
        "\n",
        "    def set(self, x):\n",
        "        self.x = x\n",
        "\n",
        "    def get(self):\n",
        "        return self.x\n",
        "\n",
        "e = Example.remote(1)\n",
        "print(e.set.remote(2))\n",
        "print(e.get.remote())\n",
        "\n",
        "print(ray.get(e.set.remote(2)))\n",
        "print(ray.get(e.get.remote()))"
      ],
      "metadata": {
        "colab": {
          "base_uri": "https://localhost:8080/"
        },
        "id": "y2pKw9wQ5R4Y",
        "outputId": "83b19522-efef-4bdd-8375-4b56a35ea384"
      },
      "execution_count": null,
      "outputs": [
        {
          "output_type": "stream",
          "name": "stdout",
          "text": [
            "ObjectRef(63964fa4841d4a2ec30d1fe593dc0533761387200100000001000000)\n",
            "ObjectRef(69a6825d641b4613c30d1fe593dc0533761387200100000001000000)\n",
            "None\n",
            "2\n"
          ]
        }
      ]
    },
    {
      "cell_type": "code",
      "source": [
        "import time\n",
        "\n",
        "@ray.remote\n",
        "class Foo(object):\n",
        "    def __init__(self):\n",
        "        self.counter = 0\n",
        "    \n",
        "    def reset(self):\n",
        "        self.counter = 0\n",
        "\n",
        "    def increment(self):\n",
        "        time.sleep(0.5)\n",
        "        self.counter += 1\n",
        "        return self.counter"
      ],
      "metadata": {
        "id": "IobArAbC5Rq-"
      },
      "execution_count": null,
      "outputs": []
    },
    {
      "cell_type": "code",
      "source": [
        "f1 = Foo.remote()\n",
        "f2 = Foo.remote()\n",
        "f3 = Foo.remote()"
      ],
      "metadata": {
        "id": "H-thcQVWJem5"
      },
      "execution_count": null,
      "outputs": []
    },
    {
      "cell_type": "code",
      "source": [
        "start_time = time.time()\n",
        "\n",
        "f1.reset.remote()\n",
        "f2.reset.remote()\n",
        "f3.reset.remote()\n",
        "\n",
        "results = []\n",
        "for _ in range(10):\n",
        "    results.append(f1.increment.remote())\n",
        "    results.append(f2.increment.remote())\n",
        "    results.append(f3.increment.remote())\n",
        "\n",
        "results = ray.get(results)\n",
        "\n",
        "duration = time.time() - start_time\n",
        "\n",
        "print(duration)"
      ],
      "metadata": {
        "colab": {
          "base_uri": "https://localhost:8080/"
        },
        "id": "c8SHS-VFJg4h",
        "outputId": "067e2a7a-cce1-43a6-ea42-b8844b935c19"
      },
      "execution_count": null,
      "outputs": [
        {
          "output_type": "stream",
          "name": "stdout",
          "text": [
            "5.02685546875\n"
          ]
        }
      ]
    },
    {
      "cell_type": "markdown",
      "source": [
        "actor간 내용을 공유할 수 있도록 함"
      ],
      "metadata": {
        "id": "kcw4XkH7Kjjg"
      }
    },
    {
      "cell_type": "code",
      "source": [
        "@ray.remote\n",
        "class Actor(object):\n",
        "    def method(self):\n",
        "        pass\n",
        "\n",
        "actor = Actor.remote()\n",
        "\n",
        "@ray.remote\n",
        "def f(actor):\n",
        "    return ray.get(actor.method.remote())\n",
        "\n",
        "f.remote(actor)\n",
        "f.remote(actor)\n",
        "f.remote(actor)"
      ],
      "metadata": {
        "colab": {
          "base_uri": "https://localhost:8080/"
        },
        "id": "BWZKebnmJvJy",
        "outputId": "5c2f8abd-edc8-4135-a7e7-a5b7288b39a9"
      },
      "execution_count": null,
      "outputs": [
        {
          "output_type": "execute_result",
          "data": {
            "text/plain": [
              "ObjectRef(30c04f84db70b40cffffffffffffffffffffffff0100000001000000)"
            ]
          },
          "metadata": {},
          "execution_count": 13
        }
      ]
    },
    {
      "cell_type": "code",
      "source": [
        "from collections import defaultdict\n",
        "\n",
        "@ray.remote\n",
        "class LoggingActor(object):\n",
        "    def __init__(self):\n",
        "        self.logs = defaultdict(lambda: [])\n",
        "\n",
        "    def log(self, index, message):\n",
        "        self.logs[index].append(message)\n",
        "\n",
        "    def get_logs(self):\n",
        "        return dict(self.logs)\n",
        "\n",
        "logging_actor = LoggingActor.remote()"
      ],
      "metadata": {
        "id": "k16923caKbpS"
      },
      "execution_count": null,
      "outputs": []
    },
    {
      "cell_type": "code",
      "source": [
        "@ray.remote\n",
        "def run_experiment(experiment_index, logging_actor):\n",
        "    for i in range(60):\n",
        "        time.sleep(1)\n",
        "        logging_actor.log.remote(experiment_index, f\"on iteration {i}\")"
      ],
      "metadata": {
        "id": "ubNBfgQVK3xp"
      },
      "execution_count": null,
      "outputs": []
    },
    {
      "cell_type": "code",
      "source": [
        "experiment_ids = []\n",
        "for i in range(3):\n",
        "    experiment_ids.append(run_experiment.remote(i, logging_actor))"
      ],
      "metadata": {
        "id": "P3-9z537LUBQ"
      },
      "execution_count": null,
      "outputs": []
    },
    {
      "cell_type": "code",
      "source": [
        "logs = ray.get(logging_actor.get_logs.remote())"
      ],
      "metadata": {
        "id": "Lz8V6r27LaJG"
      },
      "execution_count": null,
      "outputs": []
    },
    {
      "cell_type": "code",
      "source": [
        "logs"
      ],
      "metadata": {
        "id": "MeDe1yh2LjLx",
        "outputId": "e47f81f5-92e7-4855-8236-5abf5d2f29f7",
        "colab": {
          "base_uri": "https://localhost:8080/"
        }
      },
      "execution_count": null,
      "outputs": [
        {
          "output_type": "execute_result",
          "data": {
            "text/plain": [
              "{0: ['on iteration 0',\n",
              "  'on iteration 1',\n",
              "  'on iteration 2',\n",
              "  'on iteration 3',\n",
              "  'on iteration 4',\n",
              "  'on iteration 5',\n",
              "  'on iteration 6',\n",
              "  'on iteration 7',\n",
              "  'on iteration 8',\n",
              "  'on iteration 9',\n",
              "  'on iteration 10',\n",
              "  'on iteration 11',\n",
              "  'on iteration 12',\n",
              "  'on iteration 13',\n",
              "  'on iteration 14',\n",
              "  'on iteration 15',\n",
              "  'on iteration 16',\n",
              "  'on iteration 17'],\n",
              " 1: ['on iteration 0',\n",
              "  'on iteration 1',\n",
              "  'on iteration 2',\n",
              "  'on iteration 3',\n",
              "  'on iteration 4',\n",
              "  'on iteration 5',\n",
              "  'on iteration 6',\n",
              "  'on iteration 7',\n",
              "  'on iteration 8',\n",
              "  'on iteration 9',\n",
              "  'on iteration 10',\n",
              "  'on iteration 11',\n",
              "  'on iteration 12',\n",
              "  'on iteration 13',\n",
              "  'on iteration 14',\n",
              "  'on iteration 15',\n",
              "  'on iteration 16',\n",
              "  'on iteration 17']}"
            ]
          },
          "metadata": {},
          "execution_count": 21
        }
      ]
    },
    {
      "cell_type": "code",
      "source": [
        ""
      ],
      "metadata": {
        "id": "xuE7ia-CLjwZ"
      },
      "execution_count": null,
      "outputs": []
    }
  ]
}